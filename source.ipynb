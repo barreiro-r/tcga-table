{
 "cells": [
  {
   "cell_type": "markdown",
   "metadata": {},
   "source": [
    "# TCGA API - Download Files-Cases Tables\n",
    "\n",
    "---\n",
    "\n",
    "*rbarreiro, May 2021*\n",
    "\n",
    "Script to download TCGA files associated case data or metadata."
   ]
  },
  {
   "cell_type": "markdown",
   "metadata": {},
   "source": [
    "## Loading Libraries"
   ]
  },
  {
   "cell_type": "code",
   "execution_count": 1,
   "metadata": {},
   "outputs": [],
   "source": [
    "import requests\n",
    "import json"
   ]
  },
  {
   "cell_type": "markdown",
   "metadata": {},
   "source": [
    "## Fields for the output table"
   ]
  },
  {
   "cell_type": "code",
   "execution_count": 2,
   "metadata": {},
   "outputs": [],
   "source": [
    "fields = [\n",
    "    \"file_id\",\n",
    "    \"file_name\",\n",
    "    \"file_size\",\n",
    "    \"md5sum\",\n",
    "    \"state\",\n",
    "    \"data_format\",\n",
    "    \"cases.project.project_id\",\n",
    "    \"cases.project.program.name\",\n",
    "    \"cases.samples.sample_type\",\n",
    "    \"experimental_strategy\",\n",
    "    \"cases.submitter_id\"\n",
    "    ]\n",
    "\n",
    "fields = \",\".join(fields)"
   ]
  },
  {
   "cell_type": "markdown",
   "metadata": {},
   "source": [
    "## Filtering samples \n",
    "\n",
    "(e.g Only BAM files, only Solid tissue normal, only RNA-Seq data, only in TCGA project)"
   ]
  },
  {
   "cell_type": "code",
   "execution_count": 3,
   "metadata": {},
   "outputs": [],
   "source": [
    "filters = {\n",
    "    \"op\": \"and\",\n",
    "    \"content\":[\n",
    "        {\"op\": \"in\",\n",
    "        \"content\":{\n",
    "            \"field\": \"data_format\",\n",
    "            \"value\": [\"BAM\"],\n",
    "            }},\n",
    "        {\"op\": \"in\",\n",
    "        \"content\":{\n",
    "            \"field\": \"cases.samples.sample_type\",\n",
    "            \"value\": [\"solid tissue normal\"],\n",
    "            }},\n",
    "        {\"op\": \"in\",\n",
    "        \"content\":{\n",
    "            \"field\": \"experimental_strategy\",\n",
    "            \"value\": [\"RNA-Seq\"],\n",
    "            }},\n",
    "        {\"op\": \"in\",\n",
    "        \"content\":{\n",
    "            \"field\": \"cases.project.program.name\",\n",
    "            \"value\": [\"TCGA\"],\n",
    "            }}\n",
    "        \n",
    "        ]\n",
    "    }"
   ]
  },
  {
   "cell_type": "markdown",
   "metadata": {},
   "source": [
    "## Create request and download\n",
    "\n",
    "*This may take a while*"
   ]
  },
  {
   "cell_type": "code",
   "execution_count": 4,
   "metadata": {},
   "outputs": [],
   "source": [
    "# With a GET request, the filters parameter needs to be converted\n",
    "# from a dictionary to JSON-formatted string\n",
    "\n",
    "params = {\n",
    "    \"filters\": json.dumps(filters),\n",
    "    \"fields\": fields,\n",
    "    \"format\": \"TSV\",\n",
    "    \"size\": \"3000\"\n",
    "    }\n",
    "\n",
    "cases_endpt = \"https://api.gdc.cancer.gov/files\"\n",
    "response = requests.get(cases_endpt, params = params)"
   ]
  },
  {
   "cell_type": "markdown",
   "metadata": {},
   "source": [
    "## Creating Output"
   ]
  },
  {
   "cell_type": "code",
   "execution_count": 5,
   "metadata": {},
   "outputs": [],
   "source": [
    "with open(\"output.tsv\",\"w\") as my_file:\n",
    "    my_file.write(response.content.decode(\"utf-8\"))"
   ]
  }
 ],
 "metadata": {
  "kernelspec": {
   "display_name": "Python 3",
   "language": "python",
   "name": "python3"
  },
  "language_info": {
   "codemirror_mode": {
    "name": "ipython",
    "version": 3
   },
   "file_extension": ".py",
   "mimetype": "text/x-python",
   "name": "python",
   "nbconvert_exporter": "python",
   "pygments_lexer": "ipython3",
   "version": "3.8.5"
  }
 },
 "nbformat": 4,
 "nbformat_minor": 4
}
